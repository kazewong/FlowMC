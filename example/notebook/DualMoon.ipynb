{
 "cells": [
  {
   "cell_type": "code",
   "execution_count": 7,
   "metadata": {},
   "outputs": [
    {
     "name": "stdout",
     "output_type": "stream",
     "text": [
      "['/home/kaze/Work/NFSampler/example/notebook', '/usr/lib/python39.zip', '/usr/lib/python3.9', '/usr/lib/python3.9/lib-dynload', '', '/home/kaze/Environment/NFSampler/lib/python3.9/site-packages']\n"
     ]
    }
   ],
   "source": [
    "import jax\n",
    "import jax.numpy as jnp  # JAX NumPy\n",
    "from jax.scipy.special import logsumexp\n",
    "import sys\n",
    "print(sys.path)\n",
    "\n",
    "from flowMC.nfmodel.realNVP import RealNVP\n",
    "from flowMC.sampler.MALA import mala_sampler\n",
    "from flowMC.sampler.Sampler import Sampler\n",
    "from flowMC.utils.PRNG_keys import initialize_rng_keys\n",
    "from flowMC.nfmodel.utils import *"
   ]
  },
  {
   "cell_type": "code",
   "execution_count": 8,
   "metadata": {},
   "outputs": [],
   "source": [
    "\n",
    "def dual_moon_pe(x):\n",
    "    \"\"\"\n",
    "    Term 2 and 3 separate the distribution and smear it along the first and second dimension\n",
    "    \"\"\"\n",
    "    term1 = 0.5 * ((jnp.linalg.norm(x) - 2) / 0.1) ** 2\n",
    "    term2 = -0.5 * ((x[:1] + jnp.array([-3.0, 3.0])) / 0.8) ** 2\n",
    "    term3 = -0.5 * ((x[1:2] + jnp.array([-3.0, 3.0])) / 0.6) ** 2\n",
    "    return -(term1 - logsumexp(term2) - logsumexp(term3))\n",
    "\n",
    "\n",
    "d_dual_moon = jax.grad(dual_moon_pe)\n"
   ]
  },
  {
   "cell_type": "code",
   "execution_count": 9,
   "metadata": {},
   "outputs": [
    {
     "name": "stderr",
     "output_type": "stream",
     "text": [
      "WARNING:absl:No GPU/TPU found, falling back to CPU. (Set TF_CPP_MIN_LOG_LEVEL=0 and rerun for more info.)\n"
     ]
    },
    {
     "name": "stdout",
     "output_type": "stream",
     "text": [
      "Preparing RNG keys\n",
      "Initializing MCMC model and normalizing flow model.\n"
     ]
    }
   ],
   "source": [
    "### Demo config\n",
    "\n",
    "n_dim = 5\n",
    "n_chains = 10\n",
    "n_loop = 5\n",
    "n_local_steps = 100\n",
    "n_global_steps = 100\n",
    "learning_rate = 0.1\n",
    "momentum = 0.9\n",
    "num_epochs = 5\n",
    "batch_size = 50\n",
    "stepsize = 0.01\n",
    "\n",
    "print(\"Preparing RNG keys\")\n",
    "rng_key_set = initialize_rng_keys(n_chains, seed=42)\n",
    "\n",
    "print(\"Initializing MCMC model and normalizing flow model.\")\n",
    "\n",
    "initial_position = jax.random.normal(rng_key_set[0], shape=(n_chains, n_dim)) * 1\n",
    "\n",
    "\n",
    "model = RealNVP(10, n_dim, 64, 1)\n",
    "run_mcmc = jax.vmap(mala_sampler, in_axes=(0, None, None, None, 0, None), out_axes=0)\n",
    "\n",
    "\n",
    "\n",
    "\n"
   ]
  },
  {
   "cell_type": "code",
   "execution_count": 10,
   "metadata": {},
   "outputs": [
    {
     "name": "stdout",
     "output_type": "stream",
     "text": [
      "Initializing sampler class\n",
      "Sampling\n"
     ]
    }
   ],
   "source": [
    "print(\"Initializing sampler class\")\n",
    "\n",
    "nf_sampler = Sampler(n_dim, rng_key_set, model, run_mcmc,\n",
    "                    dual_moon_pe,\n",
    "                    d_likelihood=d_dual_moon,\n",
    "                    n_loop=n_loop,\n",
    "                    n_local_steps=n_local_steps,\n",
    "                    n_global_steps=n_global_steps,\n",
    "                    n_chains=n_chains,\n",
    "                    n_epochs=num_epochs,\n",
    "                    n_nf_samples=100,\n",
    "                    learning_rate=learning_rate,\n",
    "                    momentum=momentum,\n",
    "                    batch_size=batch_size,\n",
    "                    stepsize=stepsize,\n",
    "                    use_global=True,)\n",
    "\n",
    "print(\"Sampling\")\n",
    "\n",
    "nf_sampler.sample(initial_position)\n",
    "\n",
    "chains, log_prob, local_accs, global_accs, loss_vals = nf_sampler.get_sampler_state()\n",
    "nf_samples = nf_sampler.sample_flow()\n",
    "\n",
    "print(\n",
    "    \"chains shape: \",\n",
    "    chains.shape,\n",
    "    \"local_accs shape: \",\n",
    "    local_accs.shape,\n",
    "    \"global_accs shape: \",\n",
    "    global_accs.shape,\n",
    ")\n",
    "\n",
    "chains = jnp.array(chains)\n",
    "nf_samples = jnp.array(nf_samples[1])\n",
    "loss_vals = jnp.array(loss_vals)\n"
   ]
  },
  {
   "cell_type": "code",
   "execution_count": null,
   "metadata": {},
   "outputs": [],
   "source": [
    "import corner\n",
    "import matplotlib.pyplot as plt\n",
    "\n",
    "# Plot one chain to show the jump\n",
    "plt.figure(figsize=(6, 6))\n",
    "axs = [plt.subplot(2, 2, i + 1) for i in range(4)]\n",
    "plt.sca(axs[0])\n",
    "plt.title(\"2 chains\")\n",
    "plt.plot(chains[0, :, 0], chains[0, :, 1], alpha=0.5)\n",
    "plt.plot(chains[1, :, 0], chains[1, :, 1], alpha=0.5)\n",
    "plt.xlabel(\"$x_1$\")\n",
    "plt.ylabel(\"$x_2$\")\n",
    "\n",
    "plt.sca(axs[1])\n",
    "plt.title(\"NF loss\")\n",
    "plt.plot(loss_vals)\n",
    "plt.xlabel(\"iteration\")\n",
    "\n",
    "plt.sca(axs[2])\n",
    "plt.title(\"Local Acceptance\")\n",
    "plt.plot(local_accs.mean(0))\n",
    "plt.xlabel(\"iteration\")\n",
    "\n",
    "plt.sca(axs[3])\n",
    "plt.title(\"Global Acceptance\")\n",
    "plt.plot(global_accs.mean(0))\n",
    "plt.xlabel(\"iteration\")\n",
    "plt.tight_layout()\n",
    "plt.show(block=False)\n",
    "\n",
    "# Plot all chains\n",
    "figure = corner.corner(\n",
    "    chains.reshape(-1, n_dim), labels=[\"$x_1$\", \"$x_2$\", \"$x_3$\", \"$x_4$\", \"$x_5$\"]\n",
    ")\n",
    "figure.set_size_inches(7, 7)\n",
    "figure.suptitle(\"Visualize samples\")\n",
    "plt.show(block=False)\n",
    "\n",
    "# Plot Nf samples\n",
    "figure = corner.corner(nf_samples, labels=[\"$x_1$\", \"$x_2$\", \"$x_3$\", \"$x_4$\", \"$x_5$\"])\n",
    "figure.set_size_inches(7, 7)\n",
    "figure.suptitle(\"Visualize NF samples\")\n",
    "plt.show(block=False)"
   ]
  },
  {
   "cell_type": "code",
   "execution_count": null,
   "metadata": {},
   "outputs": [],
   "source": []
  }
 ],
 "metadata": {
  "kernelspec": {
   "display_name": "Python 3.9.13 ('flowMC')",
   "language": "python",
   "name": "python3"
  },
  "language_info": {
   "codemirror_mode": {
    "name": "ipython",
    "version": 3
   },
   "file_extension": ".py",
   "mimetype": "text/x-python",
   "name": "python",
   "nbconvert_exporter": "python",
   "pygments_lexer": "ipython3",
   "version": "3.9.13"
  },
  "orig_nbformat": 4,
  "vscode": {
   "interpreter": {
    "hash": "9020c46e0a51a37be32a034a174c82ff6fab05740041cd74df08d94f435e7e42"
   }
  }
 },
 "nbformat": 4,
 "nbformat_minor": 2
}
