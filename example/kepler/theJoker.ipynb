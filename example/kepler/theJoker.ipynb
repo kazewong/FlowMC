{
 "cells": [
  {
   "cell_type": "code",
   "execution_count": 1,
   "metadata": {},
   "outputs": [],
   "source": [
    "%matplotlib inline\n",
    "import jax\n",
    "import jax.numpy as jnp\n",
    "import numpy as np\n",
    "import matplotlib.pyplot as plt\n",
    "import corner\n",
    "import pickle \n",
    "import thejoker as tj\n",
    "import astropy.units as u\n",
    "\n",
    "home_dir = '../../'\n",
    "\n",
    "from plot import draw_corner, draw_kepler_results\n",
    "from utils import rv_model, log_likelihood, log_prior, sample_prior, get_kepler_params_and_log_jac"
   ]
  },
  {
   "cell_type": "code",
   "execution_count": 2,
   "metadata": {},
   "outputs": [],
   "source": [
    "random_id = '9965'\n",
    "\n",
    "with open(home_dir + 'results_{:s}.pkl'.format(random_id), 'rb') as f:\n",
    "    results = pickle.load(f)\n",
    "# ], results\n",
    "# chains, nf_samples, prior_samples, optimized_init, config, true_params, n_obs,rv_obs, t, prior_kwargs, rv_err, loss_vals, local_accs, global_accs = results['chains'], results['nf_samples'], results['prior_samples'], results['optimized_init'], results['config'], results['true_params'], results['n_obs'], results['rv_obs'], results['t'], results['prior_kwargs'], results['rv_err'], \n",
    "# results['loss_vals'['local_accs'], results['global_accs']\n",
    "\n",
    "for key,val in results.items():\n",
    "        exec(key + '=val')\n",
    "\n",
    "labels = ['v0', 'log_s2', 'log_period', 'log_k', 'sin_phi_',\n",
    "                            'cos_phi_', 'ecc_', 'sin_w_', 'cos_w_']"
   ]
  },
  {
   "cell_type": "code",
   "execution_count": 4,
   "metadata": {},
   "outputs": [
    {
     "data": {
      "text/plain": [
       "(-10.0, 200.0)"
      ]
     },
     "execution_count": 4,
     "metadata": {},
     "output_type": "execute_result"
    },
    {
     "data": {
      "image/png": "[encoded data removed]",
      "text/plain": [
       "<Figure size 432x288 with 1 Axes>"
      ]
     },
     "metadata": {
      "needs_background": "light"
     },
     "output_type": "display_data"
    }
   ],
   "source": [
    "t = [0., 49.452, 95.393, 127.587, 190.408]\n",
    "rv = [38.77, 39.70, 37.45, 38.31, 38.31] * u.km/u.s\n",
    "err = [0.184, 0.261, 0.112, 0.155, 0.223] * u.km/u.s \n",
    "data = tj.RVData(t=t, rv=rv, rv_err=err\n",
    "ax = data.plot() \n",
    "ax.set_xlim(-10, 200) \n"
   ]
  },
  {
   "cell_type": "code",
   "execution_count": 6,
   "metadata": {},
   "outputs": [],
   "source": [
    "prior = tj.JokerPrior.default(P_min=2*u.day, P_max=256*u.day,\n",
    "                              sigma_K0=30*u.km/u.s,\n",
    "                              sigma_v=100*u.km/u.s)"
   ]
  },
  {
   "cell_type": "code",
   "execution_count": 7,
   "metadata": {},
   "outputs": [],
   "source": [
    "joker = tj.TheJoker(prior)\n",
    "prior_samples = prior.sample(size=100_000)\n",
    "samples = joker.rejection_sample(data, prior_samples) "
   ]
  },
  {
   "cell_type": "code",
   "execution_count": 17,
   "metadata": {},
   "outputs": [
    {
     "data": {
      "text/plain": [
       "(array([10106.,  9983., 10022.,  9977.,  9918.,  9982.,  9878., 10151.,\n",
       "        10000.,  9983.]),\n",
       " array([-3.14150941e+00, -2.51320025e+00, -1.88489110e+00, -1.25658195e+00,\n",
       "        -6.28272795e-01,  3.63579053e-05,  6.28345511e-01,  1.25665466e+00,\n",
       "         1.88496382e+00,  2.51327297e+00,  3.14158212e+00]),\n",
       " <BarContainer object of 10 artists>)"
      ]
     },
     "execution_count": 17,
     "metadata": {},
     "output_type": "execute_result"
    },
    {
     "data": {
      "image/png": "[encoded data removed]",
      "text/plain": [
       "<Figure size 432x288 with 1 Axes>"
      ]
     },
     "metadata": {
      "needs_background": "light"
     },
     "output_type": "display_data"
    }
   ],
   "source": [
    "samples['P'].to_value(u.day)\n"
   ]
  },
  {
   "cell_type": "code",
   "execution_count": 14,
   "metadata": {},
   "outputs": [
    {
     "data": {
      "text/plain": [
       "(array([3., 1., 1., 1., 0., 3., 1., 3., 0., 2.]),\n",
       " array([-2.97351544, -2.44255522, -1.91159501, -1.3806348 , -0.84967459,\n",
       "        -0.31871438,  0.21224583,  0.74320605,  1.27416626,  1.80512647,\n",
       "         2.33608668]),\n",
       " <BarContainer object of 10 artists>)"
      ]
     },
     "execution_count": 14,
     "metadata": {},
     "output_type": "execute_result"
    },
    {
     "data": {
      "image/png": "[encoded data removed]",
      "text/plain": [
       "<Figure size 432x288 with 1 Axes>"
      ]
     },
     "metadata": {
      "needs_background": "light"
     },
     "output_type": "display_data"
    }
   ],
   "source": [
    "plt.hist(samples['omega'].to_value(u.rad))"
   ]
  },
  {
   "cell_type": "code",
   "execution_count": null,
   "metadata": {},
   "outputs": [],
   "source": []
  }
 ],
 "metadata": {
  "interpreter": {
   "hash": "5acfc255139a090c95682319884ba928066bcd183f9ed320ebbfb104e79bd341"
  },
  "kernelspec": {
   "display_name": "Python 3.9.7 ('base')",
   "language": "python",
   "name": "python3"
  },
  "language_info": {
   "codemirror_mode": {
    "name": "ipython",
    "version": 3
   },
   "file_extension": ".py",
   "mimetype": "text/x-python",
   "name": "python",
   "nbconvert_exporter": "python",
   "pygments_lexer": "ipython3",
   "version": "3.9.7"
  },
  "orig_nbformat": 4
 },
 "nbformat": 4,
 "nbformat_minor": 2
}
